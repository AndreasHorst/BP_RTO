{
 "cells": [
  {
   "cell_type": "code",
   "execution_count": 1,
   "id": "c8c5e728",
   "metadata": {},
   "outputs": [],
   "source": [
    "from skimage.transform import rescale\n",
    "from skimage.data import shepp_logan_phantom\n",
    "import numpy as np\n",
    "from scipy import sparse\n",
    "from besov_prior2D import besov_prior2D\n",
    "from inverse_problem_2D import inverse_problem_2D\n",
    "from CT import CT\n",
    "from rto_mh_2D import rto_mh_2D\n",
    "import pywt"
   ]
  },
  {
   "cell_type": "code",
   "execution_count": 2,
   "id": "ee0e2845",
   "metadata": {},
   "outputs": [],
   "source": [
    "np.random.seed(100)\n",
    "J = 6\n",
    "n = 2**J\n",
    "N = 2**(2*J)\n",
    "n_theta = 30\n",
    "im_size = n\n",
    "im = shepp_logan_phantom()\n",
    "im_1 = rescale(im,im_size/400)\n",
    "# projection angles\n",
    "theta = np.linspace(0,180,n_theta,endpoint=False)\n",
    "likelihood = CT(theta)\n",
    "likelihood.set_data(im_1,2.0)\n",
    "np.save('CT_IM.npy',im_1)\n",
    "np.save(\"CT_data.npy\",likelihood.data)\n",
    "m = len(likelihood.data.ravel())"
   ]
  },
  {
   "cell_type": "code",
   "execution_count": 3,
   "id": "285e39be",
   "metadata": {},
   "outputs": [],
   "source": [
    "sparse.save_npz(\"A_64.npz\",likelihood.jac_const(n))"
   ]
  },
  {
   "cell_type": "code",
   "execution_count": null,
   "id": "af330126",
   "metadata": {},
   "outputs": [],
   "source": [
    "np.random.seed(100)\n",
    "A = sparse.load_npz('A_64.npz')\n",
    "s= 1.0\n",
    "p = 1.5\n",
    "delt = 0.025\n",
    "level = 0\n",
    "wavelet = 'db1'\n",
    "a, slices, shape = pywt.ravel_coeffs(pywt.wavedec2(np.ones((n,n)),wavelet,mode='periodization',level=J-level))\n",
    "prior = besov_prior2D(J,delt,level, slices, shape,s=s,p=p, wavelet=wavelet)\n",
    "nsamp= 50000\n",
    "x0 = np.ones(N)\n",
    "sampler = rto_mh_2D(x0,N+m,samp=nsamp)\n",
    "problem = inverse_problem_2D(likelihood, prior, A@prior.jac_const())\n",
    "z_map= sampler.initialize_Q(problem)\n",
    "sampler.x0 = 8*z_map\n",
    "chain, acc_rate, index_accept, log_c_chain  = sampler.sample(problem)\n",
    "np.save('CTSamples'+ wavelet + str(s) + str(p)+ '.npy',chain)\n",
    "np.save('CTacc_rate' + wavelet + str(s) + str(p)+ '.npy',acc_rate)\n",
    "np.save(\"CTMH\" + wavelet + str(s) + str(p)+ '.npy',log_c_chain)\n",
    "np.save(\"CTindex_accept\" + wavelet + str(s) + str(p)+ '.npy', index_accept)\n"
   ]
  },
  {
   "cell_type": "code",
   "execution_count": null,
   "id": "a9b1cb10",
   "metadata": {},
   "outputs": [],
   "source": [
    "np.random.seed(100)\n",
    "A = sparse.load_npz('A_64.npz')\n",
    "s= 2.5\n",
    "p = 1.5\n",
    "delt = 0.025\n",
    "level = 0\n",
    "wavelet = 'db1'\n",
    "a, slices, shape = pywt.ravel_coeffs(pywt.wavedec2(np.ones((n,n)),wavelet,mode='periodization',level=J-level))\n",
    "prior = besov_prior2D(J,delt,level, slices, shape,s=s,p=p, wavelet=wavelet)\n",
    "nsamp= 200\n",
    "x0 = np.ones(N)\n",
    "sampler = rto_mh_2D(x0,N+m,samp=nsamp)\n",
    "problem = inverse_problem_2D(likelihood, prior, A@prior.jac_const())\n",
    "z_map= sampler.initialize_Q(problem)\n",
    "sampler.x0 = 8*z_map\n",
    "chain, acc_rate, index_accept, log_c_chain  = sampler.sample(problem)\n",
    "np.save('CTSamples'+ wavelet + str(s) + str(p)+ '.npy',chain)\n",
    "np.save('CTacc_rate' + wavelet + str(s) + str(p)+ '.npy',acc_rate)\n",
    "np.save(\"CTMH\" + wavelet + str(s) + str(p)+ '.npy',log_c_chain)\n",
    "np.save(\"CTindex_accept\" + wavelet + str(s) + str(p)+ '.npy', index_accept)\n"
   ]
  },
  {
   "cell_type": "code",
   "execution_count": null,
   "id": "f1815562",
   "metadata": {},
   "outputs": [],
   "source": [
    "np.random.seed(100)\n",
    "A = sparse.load_npz('A_64.npz')\n",
    "s= 2.5\n",
    "p = 1.0\n",
    "delt = 0.025\n",
    "level = 0\n",
    "wavelet = 'db1'\n",
    "a, slices, shape = pywt.ravel_coeffs(pywt.wavedec2(np.ones((n,n)),wavelet,mode='periodization',level=J-level))\n",
    "prior = besov_prior2D(J,delt,level, slices, shape,s=s,p=p, wavelet=wavelet)\n",
    "nsamp= 200\n",
    "x0 = np.ones(N)\n",
    "sampler = rto_mh_2D(x0,N+m,samp=nsamp)\n",
    "problem = inverse_problem_2D(likelihood, prior, A@prior.jac_const())\n",
    "z_map= sampler.initialize_Q(problem)\n",
    "sampler.x0 = 8*z_map\n",
    "chain, acc_rate, index_accept, log_c_chain  = sampler.sample(problem)\n",
    "np.save('CTSamples'+ wavelet + str(s) + str(p)+ '.npy',chain)\n",
    "np.save('CTacc_rate' + wavelet + str(s) + str(p)+ '.npy',acc_rate)\n",
    "np.save(\"CTMH\" + wavelet + str(s) + str(p)+ '.npy',log_c_chain)\n",
    "np.save(\"CTindex_accept\" + wavelet + str(s) + str(p)+ '.npy', index_accept)"
   ]
  }
 ],
 "metadata": {
  "kernelspec": {
   "display_name": "Python 3",
   "language": "python",
   "name": "python3"
  },
  "language_info": {
   "codemirror_mode": {
    "name": "ipython",
    "version": 3
   },
   "file_extension": ".py",
   "mimetype": "text/x-python",
   "name": "python",
   "nbconvert_exporter": "python",
   "pygments_lexer": "ipython3",
   "version": "3.10.8"
  }
 },
 "nbformat": 4,
 "nbformat_minor": 5
}
