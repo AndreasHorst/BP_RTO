{
 "cells": [
  {
   "cell_type": "code",
   "execution_count": 7,
   "id": "7d8aec51",
   "metadata": {},
   "outputs": [],
   "source": [
    "from inpainting import inpainting\n",
    "from besov_prior import besov_prior\n",
    "from inverse_problem import inverse_problem\n",
    "from rto_mh import rto_mh\n",
    "import numpy as np"
   ]
  },
  {
   "cell_type": "code",
   "execution_count": 8,
   "id": "5844dd37",
   "metadata": {},
   "outputs": [],
   "source": [
    "def Test_signal(x):\n",
    "    Signal = np.zeros(len(x))\n",
    "    interval_1 = np.logical_and(0.1 <= x, x <= 0.35)\n",
    "    interval_2 = np.logical_and(0.35 < x, x <= 0.45)\n",
    "    interval_3 = np.logical_and(0.45 < x, x <= 0.60)\n",
    "    interval_4 = np.logical_and(0.60 < x, x < 0.90)\n",
    "    Signal[interval_1] = np.exp(-(x[interval_1]-0.35)**2*150)\n",
    "    Signal[interval_2] = 1.0\n",
    "    Signal[interval_3] = 0.8\n",
    "    Signal[interval_4] = 0.40\n",
    "    return Signal"
   ]
  },
  {
   "cell_type": "code",
   "execution_count": 9,
   "id": "0d20a3ff",
   "metadata": {},
   "outputs": [],
   "source": [
    "J = 9\n",
    "n = 2**J\n",
    "x = np.linspace(0, 1, 2**J, endpoint=False)\n",
    "signal = Test_signal(x)"
   ]
  },
  {
   "cell_type": "code",
   "execution_count": 10,
   "id": "65d89e13",
   "metadata": {},
   "outputs": [],
   "source": [
    "np.random.seed(5)\n",
    "index_remove = np.concatenate((np.argwhere(np.logical_and(x>=0.2725,x<=0.3225)),np.argwhere(np.logical_and(x>=0.5725,x<=0.6225))),axis=0)[:,0]\n",
    "index_remove_1 = np.argwhere(np.logical_and(x>=0.2725,x<=0.3225))[:,0]\n",
    "index_remove_2 = np.argwhere(np.logical_and(x>=0.5725,x<=0.6225))[:,0]\n",
    "index_remain = np.delete(np.linspace(0,len(x)-1,len(x),dtype=int),index_remove)\n",
    "likelihood = inpainting(index_remove)\n",
    "likelihood.set_data(signal,noise_level=2.0)\n",
    "m = len(likelihood.data)\n",
    "np.save(\"Inpainting_signal.npy\",signal)\n",
    "np.save(\"Inpainting_data.npy\",likelihood.data)\n",
    "np.save(\"Inpainting_region1.npy\",index_remove_1)\n",
    "np.save(\"Inpainting_region2.npy\",index_remove_2)"
   ]
  },
  {
   "cell_type": "code",
   "execution_count": 11,
   "id": "a9d1c7a5",
   "metadata": {},
   "outputs": [],
   "source": [
    "s = 1.2\n",
    "p = 1.5\n",
    "wavelets = ['db1','db8']\n",
    "delt = 0.025\n",
    "level = 0\n",
    "prior = besov_prior(J=J,delt=delt, level=level ,s=s, p=p,wavelet=wavelets[0])"
   ]
  },
  {
   "cell_type": "code",
   "execution_count": null,
   "id": "659efa3f",
   "metadata": {},
   "outputs": [],
   "source": [
    "np.random.seed(5)\n",
    "nsamp = 10000\n",
    "x0 = 10*np.ones(len(x))\n",
    "rto_sampler=rto_mh(x0,m+n,samp=nsamp)\n",
    "for wavelet in wavelets:\n",
    "    prior.wavelet = wavelet\n",
    "    rto_sampler.x0 = np.ones(n)\n",
    "    problem = inverse_problem(likelihood,prior,likelihood.jac_const(n) @ prior.jac_const(n))\n",
    "    zMap=rto_sampler.initialize_Q(problem)\n",
    "    rto_sampler.x0=10*zMap\n",
    "    chain, acc_rate, index_accept, log_c_chain  = rto_sampler.sample(problem)\n",
    "    print(acc_rate)\n",
    "    np.save(wavelet + str(s) + str(p) + \"Inpainting_samples.npy\", chain)\n",
    "    np.save(wavelet + str(s) + str(p) + \"Inpainting_index_accept.npy\",index_accept)\n",
    "    rto_sampler.Q = np.identity(rto_sampler.Nrand)\n",
    "    rto_sampler.eps = np.zeros(n+m)"
   ]
  },
  {
   "cell_type": "code",
   "execution_count": 13,
   "id": "7479db40",
   "metadata": {},
   "outputs": [],
   "source": [
    "s = [0.8, 1.4, 2.0]\n",
    "p = [1.0, 1.5, 2.0]\n",
    "wavelet = 'db8'\n",
    "delt = 0.025\n",
    "level = 0\n",
    "prior = besov_prior(J=J,delt=delt, level=level ,s=s[0], p=p[0],wavelet=wavelet)\n"
   ]
  },
  {
   "cell_type": "code",
   "execution_count": null,
   "id": "6d0aeb54",
   "metadata": {},
   "outputs": [],
   "source": [
    "np.random.seed(5)\n",
    "nsamp = 10000\n",
    "x0 = 10*np.ones(len(x))\n",
    "rto_sampler=rto_mh(x0,m+n,samp=nsamp)\n",
    "for i in range(len(p)):\n",
    "    for j in range(len(s)):\n",
    "        rto_sampler.x0 = np.ones(n)\n",
    "        prior.p = p[i]\n",
    "        prior.s = s[j]\n",
    "        problem = inverse_problem(likelihood,prior,likelihood.jac_const(n) @ prior.jac_const(n))\n",
    "        zMap=rto_sampler.initialize_Q(problem)\n",
    "        xMap = prior.transform(zMap)\n",
    "        rto_sampler.x0=10*zMap\n",
    "        chain, acc_rate, index_accept, log_c_chain  = rto_sampler.sample(problem)\n",
    "        print(acc_rate)\n",
    "        np.save(wavelet + str(s[j]) + str(p[i]) + \"Inpainting_samples.npy\", chain)\n",
    "        np.save(wavelet + str(s[j]) + str(p[i]) + \"Inpainting_index_accept.npy\",index_accept)\n",
    "        rto_sampler.Q = np.identity(rto_sampler.Nrand)\n",
    "        rto_sampler.eps = np.zeros(n+m)\n"
   ]
  }
 ],
 "metadata": {
  "kernelspec": {
   "display_name": "Python 3",
   "language": "python",
   "name": "python3"
  },
  "language_info": {
   "codemirror_mode": {
    "name": "ipython",
    "version": 3
   },
   "file_extension": ".py",
   "mimetype": "text/x-python",
   "name": "python",
   "nbconvert_exporter": "python",
   "pygments_lexer": "ipython3",
   "version": "3.10.8"
  }
 },
 "nbformat": 4,
 "nbformat_minor": 5
}
