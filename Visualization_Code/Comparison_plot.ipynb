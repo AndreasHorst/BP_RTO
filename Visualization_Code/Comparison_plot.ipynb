{
 "cells": [
  {
   "cell_type": "markdown",
   "id": "7192de78",
   "metadata": {},
   "source": [
    "# Comparison of Sampling Methods: RTO vs. NUTS\n",
    "\n",
    "This notebook aims to compare two sampling methods, **RTO (Randomize-Then-Optimize)** and **NUTS (No-U-Turn Sampler)**, in the context of Bayesian deconvolution problems. The comparison is based on the following analyses:\n",
    "1. Visualization of sampling chains.\n",
    "2. Uncertainty quantification (UQ) using high-density intervals (HDIs).\n",
    "3. Autocorrelation analysis for convergence diagnostics.\n",
    "4. Data plotting for visual inspection.\n",
    "\n",
    "The results provide insights into the performance and reliability of each sampling technique."
   ]
  },
  {
   "cell_type": "markdown",
   "id": "ea04689f",
   "metadata": {},
   "source": [
    "## Importing Required Libraries\n",
    "\n",
    "The following Python libraries are used in this notebook:\n",
    "- `numpy`: For numerical computations and data manipulation.\n",
    "- `matplotlib`: For creating plots and visualizations.\n",
    "- `arviz`: For Bayesian analysis and diagnostics, including HDIs and autocorrelation.\n",
    "- `seaborn`: For improving the aesthetics of visualizations."
   ]
  },
  {
   "cell_type": "code",
   "execution_count": 1,
   "id": "2ce2df33",
   "metadata": {},
   "outputs": [],
   "source": [
    "import numpy as np\n",
    "import matplotlib.pyplot as plt\n",
    "import arviz as az\n",
    "import seaborn as sns\n",
    "\n",
    "\n",
    "sns.set_palette(\"Paired_r\")\n",
    "plt.rcParams.update({\n",
    "    \"text.usetex\": True,\n",
    "    \"font.family\": \"serif\",\n",
    "    \"font.serif\": [\"Palatino\"],\n",
    "})\n",
    "params= {'text.latex.preamble' : r'\\usepackage{amsmath}'}\n",
    "plt.rcParams.update(params)\n",
    "plt.rcParams['xtick.labelsize']=25\n",
    "plt.rcParams['ytick.labelsize']=25\n",
    "\n",
    "cm_to_in = 1/2.54"
   ]
  },
  {
   "cell_type": "markdown",
   "id": "3ecdc128",
   "metadata": {},
   "source": [
    "## Function Definitions\n",
    "\n",
    "Several helper functions are defined to streamline the visualization process:\n",
    "\n",
    "1. **`plot_chains`**:\n",
    "   - Visualizes the sampling chains for RTO and NUTS methods.\n",
    "   - Highlights specific indices in the chain for comparison.\n",
    "\n",
    "2. **`plot_uq`**:\n",
    "   - Computes and visualizes uncertainty quantification using HDIs.\n",
    "   - Compares the mean estimates and 95% confidence intervals for RTO and NUTS.\n",
    "\n",
    "3. **`plot_acf`**:\n",
    "   - Plots autocorrelation functions to assess the convergence of the sampling methods.\n",
    "   - Helps identify the lag at which samples become independent.\n",
    "\n",
    "4. **`plot_data`**:\n",
    "   - Plots the original signal, observed data, and specific points of interest.\n",
    "   - Provides context for the deconvolution problem."
   ]
  },
  {
   "cell_type": "code",
   "execution_count": 2,
   "id": "f9c936b8",
   "metadata": {},
   "outputs": [],
   "source": [
    "def plot_chains(rto_samples, nuts_samples):\n",
    "    f,axes = plt.subplots(3,2, sharex=True, figsize=(71.2/2*cm_to_in,27*1.5*1.5*cm_to_in), layout=\"constrained\")\n",
    "\n",
    "    print(rto_samples.shape)\n",
    "    print(nuts_samples.shape)\n",
    "\n",
    "    axes[0,0].set_title(r'RTO',fontsize=35)\n",
    "    axes[0,1].set_title(r'NUTS',fontsize=35)\n",
    "\n",
    "    indecies = [102, 307, 384]\n",
    "    loc = [0.2, 0.6, 0.75]\n",
    "\n",
    "    for i, idx in enumerate(indecies) :\n",
    "        axes[i,0].plot(rto_samples[:,idx],linewidth=2,color='mediumslateblue')\n",
    "        axes[i,1].plot(nuts_samples[:,idx],linewidth=2,color='mediumslateblue')\n",
    "        axes[i,0].set_ylabel(r'$x$={}'.format(loc[i]), fontsize=35)\n",
    "\n",
    "    axes[2,0].set_xlabel(r'Sample index'.format(loc[i]),fontsize=35)\n",
    "    axes[2,1].set_xlabel(r'Sample index',fontsize=35)\n",
    "\n",
    "    plt.tight_layout()\n",
    "\n",
    "    plt.savefig('Figure6.pdf',dpi = 300)\n",
    "    plt.show()\n",
    "\n",
    "def plot_uq(rto_samples, nuts_samples):\n",
    "    mean_rto = np.mean(rto_samples, axis=0)\n",
    "    mean_nuts = np.mean(nuts_samples, axis=0)\n",
    "\n",
    "    f,axes = plt.subplots(2,2, sharex=True ,figsize=(71.2/2*cm_to_in,27*1.5*cm_to_in), layout=\"constrained\")\n",
    "\n",
    "    x = np.linspace(0,1,512,endpoint=False)\n",
    "    axes[0,0].set_title(r'RTO',fontsize=35)\n",
    "    axes[0,1].set_title(r'NUTS',fontsize=35)\n",
    "    hdi_rto = az.hdi( rto_samples, circular=True, hdi_prob=0.95 ).T\n",
    "    axes[0,0].fill_between(x,hdi_rto[0],hdi_rto[1], color='skyblue', label=r'95\\% CI')\n",
    "    axes[0,0].plot( x, mean_rto, linewidth=2, color='mediumslateblue', label=r'Mean' )\n",
    "    axes[0,0].set_ylabel(r'Estimates',fontsize=35)\n",
    "    axes[0,0].legend(fontsize=25)\n",
    "\n",
    "    hdi_nuts = az.hdi( nuts_samples, circular=True, hdi_prob=0.95 ).T\n",
    "    axes[0,1].fill_between(x,hdi_nuts[0],hdi_nuts[1], color='skyblue', label=r'95\\% CI')\n",
    "    axes[0,1].plot( x, mean_nuts, linewidth=2, color='mediumslateblue', label=r'Mean' )\n",
    "    axes[0,1].set_yticks([])\n",
    "    axes[0,1].legend(fontsize=25)\n",
    "\n",
    "    axes[1,0].plot(x, hdi_rto[1]-hdi_rto[0], linewidth=2, color='mediumslateblue' )\n",
    "    axes[1,0].set_ylim([0.045, 0.07])\n",
    "    axes[1,0].set_ylabel(r'Length of 95\\% CI',fontsize=35)\n",
    "    axes[1,0].set_xlabel(r'$x$',fontsize=35)\n",
    "\n",
    "    axes[1,1].plot(x, hdi_nuts[1]-hdi_nuts[0], linewidth=2, color='mediumslateblue' )\n",
    "    axes[1,1].set_ylim([0.045, 0.07])\n",
    "    axes[1,1].set_xlabel(r'$x$',fontsize=35)\n",
    "    axes[1,1].set_yticks([])\n",
    "\n",
    "    plt.tight_layout()\n",
    "\n",
    "    plt.savefig('Figure8.pdf',dpi = 300)\n",
    "    plt.show()\n",
    "\n",
    "def plot_acf(rto_samples, nuts_samples):\n",
    "    f,axes = plt.subplots(3,2, sharex=True,sharey=True ,figsize=(71.2/2*cm_to_in,27*1.5*1.5*cm_to_in), layout=\"constrained\")\n",
    "\n",
    "\n",
    "    print(rto_samples.shape)\n",
    "    print(nuts_samples.shape)\n",
    "\n",
    "    axes[0,0].set_title(r'RTO',fontsize=35)\n",
    "    axes[0,1].set_title(r'NUTS',fontsize=35)\n",
    "\n",
    "    indecies = [102, 307, 384]\n",
    "    loc = [0.2, 0.6, 0.75]\n",
    "\n",
    "    for i, idx in enumerate(indecies) :\n",
    "        acc_rto = az.autocorr(rto_samples[:,idx])\n",
    "        axes[i,0].plot(acc_rto, linewidth=2,color='mediumslateblue')\n",
    "        axes[i,0].set_ylim([-0.15,0.15])\n",
    "\n",
    "        acc_nuts = az.autocorr(nuts_samples[:,idx])\n",
    "        axes[i,1].plot(acc_nuts,linewidth=2,color='mediumslateblue')\n",
    "        axes[i,1].set_ylim([-0.15,0.15])\n",
    "        axes[i,0].set_ylabel(r'$x$={}'.format(loc[i]), fontsize=35)\n",
    "\n",
    "    axes[2,0].set_xlabel(r'Lag'.format(loc[i]),fontsize=35)\n",
    "    axes[2,1].set_xlabel(r'Lag',fontsize=35)\n",
    "\n",
    "    plt.tight_layout()\n",
    "\n",
    "    plt.savefig('Figure7.pdf',dpi = 300)\n",
    "    plt.show()\n",
    "\n",
    "def plot_data(Signal,Data):\n",
    "    plt.figure(figsize=(71.2/2*cm_to_in,27*cm_to_in), layout=\"constrained\")\n",
    "    indicies = [102, 307, 384]\n",
    "    loc = [0.2, 0.6, 0.75]\n",
    "    x = np.linspace(0,1,512,endpoint=False)\n",
    "    plt.plot(x,Signal,label=r'$f_{\\text{true}}$',linewidth=2,color='green')\n",
    "    plt.plot(x,Data,'.',label=r'Data',color='red',markersize=15, alpha=0.5)\n",
    "    plt.plot(x[indicies],Signal[indicies],'o',alpha=0.25,markersize=40, color='green')\n",
    "    plt.legend(fontsize=25)\n",
    "    plt.xlabel(r'$x$',fontsize=35)\n",
    "    plt.tight_layout()\n",
    "    plt.savefig('Figure4.pdf', dpi=300)\n",
    "    plt.show()"
   ]
  },
  {
   "cell_type": "markdown",
   "id": "3e1ea5ce",
   "metadata": {},
   "source": [
    "## Loading Data\n",
    "\n",
    "The following datasets are loaded for analysis:\n",
    "- **`Comparison_samples_deconvolution_RTO.npy`**: RTO samples for the deconvolution problem.\n",
    "- **`Comparison_samples_deconvolution_NUTS.npy`**: NUTS samples for the same problem.\n",
    "- **`Convolution_Signal.npy`**: The true signal used in the convolution.\n",
    "- **`Convolution_Data.npy`**: The observed data after applying the convolution.\n",
    "\n",
    "These datasets are used for visualizing sampling chains, computing uncertainty quantification, and comparing the performance of the sampling methods."
   ]
  },
  {
   "cell_type": "code",
   "execution_count": null,
   "id": "89dcec52",
   "metadata": {},
   "outputs": [],
   "source": [
    "n= 2**9\n",
    "x=np.linspace(0, 1, n, endpoint=False)\n",
    "index = 307\n",
    "chain_RTO = np.load(\"Comparison_Plot_Data/Comparison_samples_deconvolution_RTO.npy\")\n",
    "RTO_samples = chain_RTO\n",
    "Mean_RTO = np.mean(RTO_samples,axis=1)\n",
    "uncertainty_RTO = az.hdi(RTO_samples.T,0.95)\n",
    "width_RTO = uncertainty_RTO[:,1]-uncertainty_RTO[:,0]\n",
    "chain_NUTS=np.load(\"Comparison_Plot_Data/Comparison_samples_deconvolution_NUTS.npy\")\n",
    "Mean_NUTS = np.mean(chain_NUTS,axis=1)\n",
    "uncertainty_NUTS = az.hdi(chain_NUTS.T,0.95)\n",
    "width_NUTS = uncertainty_NUTS[:,1]-uncertainty_NUTS[:,0]\n",
    "Signal = np.load(\"Comparison_Plot_Data/Convolution_Signal.npy\")\n",
    "Data = np.load(\"Comparison_Plot_Data/Convolution_Data.npy\")"
   ]
  },
  {
   "cell_type": "markdown",
   "id": "8b393c6d",
   "metadata": {},
   "source": [
    "## Visualizing Sampling Chains\n",
    "\n",
    "This section visualizes the sampling chains for both RTO and NUTS methods. Specific features include:\n",
    "- Sampling indices of interest: `102`, `307`, and `384`.\n",
    "- Comparison of the chains to assess mixing and behavior over iterations.\n",
    "\n",
    "The figure is saved as `Figure6.pdf`."
   ]
  },
  {
   "cell_type": "code",
   "execution_count": null,
   "id": "8bb67d93",
   "metadata": {},
   "outputs": [],
   "source": [
    "plot_chains(chain_RTO.T, chain_NUTS.T)"
   ]
  },
  {
   "cell_type": "markdown",
   "id": "37c31c01",
   "metadata": {},
   "source": [
    "## Uncertainty Quantification (UQ)\n",
    "\n",
    "The uncertainty quantification analysis involves:\n",
    "- Computing the mean estimates for both RTO and NUTS samples.\n",
    "- Calculating the 95% high-density intervals (HDIs) for uncertainty ranges.\n",
    "- Plotting the mean and HDI ranges for visual comparison.\n",
    "\n",
    "Additional analysis includes:\n",
    "- Assessing the length of the 95% HDI for each method to understand the precision of the estimates.\n",
    "\n",
    "The figure is saved as `Figure8.pdf`."
   ]
  },
  {
   "cell_type": "code",
   "execution_count": null,
   "id": "e79c1de2",
   "metadata": {},
   "outputs": [],
   "source": [
    "plot_uq(chain_RTO.T, chain_NUTS.T)"
   ]
  },
  {
   "cell_type": "markdown",
   "id": "7c6cfcfc",
   "metadata": {},
   "source": [
    "## Autocorrelation Analysis\n",
    "\n",
    "Autocorrelation functions (ACFs) are plotted to evaluate the convergence and mixing efficiency of the sampling methods. The analysis focuses on:\n",
    "- Sampling indices of interest: `102`, `307`, and `384`.\n",
    "- Lag values to determine the correlation between samples.\n",
    "\n",
    "The figure is saved as `Figure7.pdf`."
   ]
  },
  {
   "cell_type": "code",
   "execution_count": null,
   "id": "dcfa933c",
   "metadata": {},
   "outputs": [],
   "source": [
    "plot_acf(chain_RTO.T, chain_NUTS.T)"
   ]
  },
  {
   "cell_type": "markdown",
   "id": "4cd764cf",
   "metadata": {},
   "source": [
    "## Data Visualization\n",
    "\n",
    "The final section visualizes the original signal, observed data, and specific points of interest. This provides context for the deconvolution problem and highlights the role of sampling methods in reconstructing the true signal.\n",
    "\n",
    "The figure is saved as `Figure4.pdf`."
   ]
  },
  {
   "cell_type": "code",
   "execution_count": null,
   "id": "dd6b7abc",
   "metadata": {},
   "outputs": [],
   "source": [
    "plot_data(Signal,Data)"
   ]
  }
 ],
 "metadata": {
  "kernelspec": {
   "display_name": "Python 3",
   "language": "python",
   "name": "python3"
  },
  "language_info": {
   "codemirror_mode": {
    "name": "ipython",
    "version": 3
   },
   "file_extension": ".py",
   "mimetype": "text/x-python",
   "name": "python",
   "nbconvert_exporter": "python",
   "pygments_lexer": "ipython3",
   "version": "3.10.8"
  }
 },
 "nbformat": 4,
 "nbformat_minor": 5
}
