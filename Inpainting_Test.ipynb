{
 "cells": [
  {
   "cell_type": "markdown",
   "id": "5d60c773",
   "metadata": {},
   "source": [
    "# Image Inpainting using Besov Priors\n",
    "This notebook demonstrates the use of Besov priors for solving image inpainting problems using Bayesian inference. The workflow includes defining missing regions, setting up the forward model, and performing posterior sampling using the RTO-MH sampler."
   ]
  },
  {
   "cell_type": "code",
   "execution_count": null,
   "id": "7d8aec51",
   "metadata": {},
   "outputs": [],
   "source": [
    "# Import required libraries and modules\n",
    "from inpainting import inpainting\n",
    "from besov_prior import besov_prior\n",
    "from inverse_problem import inverse_problem\n",
    "from rto_mh import rto_mh\n",
    "import numpy as np"
   ]
  },
  {
   "cell_type": "markdown",
   "id": "cf6d3699",
   "metadata": {},
   "source": [
    "## Define the Test Signal\n",
    "We define a piecewise smooth test signal with multiple intervals to simulate the ground truth."
   ]
  },
  {
   "cell_type": "code",
   "execution_count": null,
   "id": "5844dd37",
   "metadata": {},
   "outputs": [],
   "source": [
    "def Test_Signal(x):\n",
    "    \"\"\"\n",
    "    Generate a piecewise smooth test signal.\n",
    "    Args:\n",
    "        x (np.ndarray): Input array of spatial points.\n",
    "    Returns:\n",
    "        Signal (np.ndarray): Piecewise smooth test signal.\n",
    "    \"\"\"\n",
    "    Signal = np.zeros(len(x))\n",
    "    interval_1 = np.logical_and(0.1 <= x, x <= 0.35)\n",
    "    interval_2 = np.logical_and(0.35 < x, x <= 0.45)\n",
    "    interval_3 = np.logical_and(0.45 < x, x <= 0.60)\n",
    "    interval_4 = np.logical_and(0.60 < x, x < 0.90)\n",
    "    # Define signal values for each interval\n",
    "    Signal[interval_1] = np.exp(-(x[interval_1]-0.35)**2*150)\n",
    "    Signal[interval_2] = 1.0\n",
    "    Signal[interval_3] = 0.8\n",
    "    Signal[interval_4] = 0.40\n",
    "    return Signal"
   ]
  },
  {
   "cell_type": "markdown",
   "id": "62f911d9",
   "metadata": {},
   "source": [
    "## Generate the Test Signal\n",
    "We generate the test signal over a spatial grid"
   ]
  },
  {
   "cell_type": "code",
   "execution_count": null,
   "id": "0d20a3ff",
   "metadata": {},
   "outputs": [],
   "source": [
    "# Generate the spatial grid and test signal\n",
    "J = 9 # Wavelet level\n",
    "n = 2**J # Number of spatial points\n",
    "x = np.linspace(0, 1, 2**J, endpoint=False) # Spatial grid\n",
    "signal = Test_Signal(x) # Generate the test signal"
   ]
  },
  {
   "cell_type": "markdown",
   "id": "c82e2480",
   "metadata": {},
   "source": [
    "## Define Missing Regions for Inpainting\n",
    "Specify the regions to be removed (missing data) and set up the inpainting problem."
   ]
  },
  {
   "cell_type": "code",
   "execution_count": null,
   "id": "65d89e13",
   "metadata": {},
   "outputs": [],
   "source": [
    "# Define missing regions and set up the inpainting problem\n",
    "np.random.seed(5) # Set random seed for reproducibility\n",
    "\n",
    "# Indices of missing regions\n",
    "index_remove = np.concatenate((np.argwhere(np.logical_and(x>=0.2725,x<=0.3225)),np.argwhere(np.logical_and(x>=0.5725,x<=0.6225))),axis=0)[:,0]\n",
    "index_remove_1 = np.argwhere(np.logical_and(x>=0.2725,x<=0.3225))[:,0]\n",
    "index_remove_2 = np.argwhere(np.logical_and(x>=0.5725,x<=0.6225))[:,0]\n",
    "\n",
    "# Indices of observed data\\\n",
    "index_remain = np.delete(np.linspace(0,len(x)-1,len(x),dtype=int),index_remove)\n",
    "\n",
    "# Initialize the inpainting forward model\n",
    "likelihood = inpainting(index_remove)\n",
    "likelihood.set_data(signal,noise_level=2.0)\n",
    "\n",
    "# Save relevant data for later use\n",
    "m = len(likelihood.data) # Number of observed data points\n",
    "np.save(\"Inpainting_signal.npy\",signal)\n",
    "np.save(\"Inpainting_data.npy\",likelihood.data)\n",
    "np.save(\"Inpainting_region1.npy\",index_remove_1)\n",
    "np.save(\"Inpainting_region2.npy\",index_remove_2)"
   ]
  },
  {
   "cell_type": "markdown",
   "id": "ce35c133",
   "metadata": {},
   "source": [
    "## Set Up the Besov Prior\n",
    "We initialize the Besov prior for the inpainting problem."
   ]
  },
  {
   "cell_type": "code",
   "execution_count": null,
   "id": "a9d1c7a5",
   "metadata": {},
   "outputs": [],
   "source": [
    "# Initialize the Besov prior\n",
    "s = 1.2  #Smoothness parameter\n",
    "p = 1.5  # Regularity parameter\n",
    "wavelets = ['db1','db8'] # Wavelet types\n",
    "delt = 0.025 # Regularization parameter\n",
    "level = 0\n",
    "prior = besov_prior(J=J,delt=delt, level=level ,s=s, p=p,wavelet=wavelets[0])"
   ]
  },
  {
   "cell_type": "markdown",
   "id": "b575efc4",
   "metadata": {},
   "source": [
    "## Perform Posterior Sampling\n",
    "We use the RTO-MH sampler to generate posterior samples for each wavelet type"
   ]
  },
  {
   "cell_type": "code",
   "execution_count": null,
   "id": "659efa3f",
   "metadata": {},
   "outputs": [],
   "source": [
    "np.random.seed(5)\n",
    "nsamp = 10000  # Number of samples\n",
    "x0 = 10*np.ones(len(x))# Initial guess for optimization\n",
    "\n",
    "# Loop through wavelet types\n",
    "rto_sampler=rto_mh(x0,m+n,samp=nsamp)\n",
    "for wavelet in wavelets:\n",
    "    prior.wavelet = wavelet\n",
    "    rto_sampler.x0 = np.ones(n)\n",
    "\n",
    "    # Define the inverse problem\n",
    "    problem = inverse_problem(likelihood,prior,likelihood.jac_const(n) @ prior.jac_const(n))\n",
    "\n",
    "    # Perform RTO sampling\n",
    "    zMap=rto_sampler.initialize_Q(problem)\n",
    "    rto_sampler.x0=10*zMap\n",
    "    chain, acc_rate, index_accept, log_c_chain  = rto_sampler.sample(problem)\n",
    "    print(acc_rate)\n",
    "\n",
    "    # Save the results for further analysis\n",
    "    np.save(wavelet + str(s) + str(p) + \"Inpainting_samples.npy\", chain)\n",
    "    np.save(wavelet + str(s) + str(p) + \"Inpainting_index_accept.npy\",index_accept)\n",
    "\n",
    "    # Reset the sampler for the next wavelet type\n",
    "    rto_sampler.Q = np.identity(rto_sampler.Nrand)\n",
    "    rto_sampler.eps = np.zeros(n+m)"
   ]
  },
  {
   "cell_type": "markdown",
   "id": "8c83c6fb",
   "metadata": {},
   "source": [
    "## Set Up the Besov Prior\n",
    "We initialize the Besov prior for the inpainting problem with various choices of parameters"
   ]
  },
  {
   "cell_type": "code",
   "execution_count": null,
   "id": "7479db40",
   "metadata": {},
   "outputs": [],
   "source": [
    "# Initialize the Besov prior\n",
    "s = [0.8, 1.4, 2.0] #Smoothness parameters\n",
    "p = [1.0, 1.5, 2.0] # Regularity parameters\n",
    "wavelet = 'db8' # Wavelet\n",
    "delt = 0.025 # Regularization parameter\n",
    "level = 0\n",
    "prior = besov_prior(J=J,delt=delt, level=level ,s=s[0], p=p[0],wavelet=wavelet)\n"
   ]
  },
  {
   "cell_type": "markdown",
   "id": "c2de3a87",
   "metadata": {},
   "source": [
    "## Perform Posterior Sampling\n",
    "We use the RTO-MH sampler to generate posterior samples for each parameter setup"
   ]
  },
  {
   "cell_type": "code",
   "execution_count": null,
   "id": "6d0aeb54",
   "metadata": {},
   "outputs": [],
   "source": [
    "np.random.seed(5)\n",
    "nsamp = 10000 # Number of samples\n",
    "x0 = 10*np.ones(len(x)) # Initial guess for optimization\n",
    "rto_sampler=rto_mh(x0,m+n,samp=nsamp)\n",
    "# Loop through parameter combinations of s and p.\n",
    "for i in range(len(p)):\n",
    "    for j in range(len(s)):\n",
    "        rto_sampler.x0 = np.ones(n)\n",
    "        # Update prior parameters\n",
    "        prior.p = p[i]\n",
    "        prior.s = s[j]\n",
    "\n",
    "        # Define the inverse problem\n",
    "        problem = inverse_problem(likelihood,prior,likelihood.jac_const(n) @ prior.jac_const(n))\n",
    "\n",
    "        # Inititalize the sampler\n",
    "        zMap=rto_sampler.initialize_Q(problem)\n",
    "        xMap = prior.transform(zMap)\n",
    "        rto_sampler.x0=10*zMap\n",
    "\n",
    "        # Perform RTO sampling\n",
    "        chain, acc_rate, index_accept, log_c_chain  = rto_sampler.sample(problem)\n",
    "        print(acc_rate)\n",
    "\n",
    "        # Save the results for further analysis\n",
    "        np.save(wavelet + str(s[j]) + str(p[i]) + \"Inpainting_samples.npy\", chain)\n",
    "        np.save(wavelet + str(s[j]) + str(p[i]) + \"Inpainting_index_accept.npy\",index_accept)\n",
    "\n",
    "        # Reset the sampler for the next parameter combination\n",
    "        rto_sampler.Q = np.identity(rto_sampler.Nrand)\n",
    "        rto_sampler.eps = np.zeros(n+m)\n"
   ]
  }
 ],
 "metadata": {
  "kernelspec": {
   "display_name": "Python 3",
   "language": "python",
   "name": "python3"
  },
  "language_info": {
   "codemirror_mode": {
    "name": "ipython",
    "version": 3
   },
   "file_extension": ".py",
   "mimetype": "text/x-python",
   "name": "python",
   "nbconvert_exporter": "python",
   "pygments_lexer": "ipython3",
   "version": "3.10.8"
  }
 },
 "nbformat": 4,
 "nbformat_minor": 5
}
