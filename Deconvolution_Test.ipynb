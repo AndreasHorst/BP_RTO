{
 "cells": [
  {
   "cell_type": "code",
   "execution_count": 1,
   "id": "8cdcebff",
   "metadata": {},
   "outputs": [],
   "source": [
    "from blurring import blurring\n",
    "from besov_prior import besov_prior\n",
    "from inverse_problem import inverse_problem\n",
    "from rto_mh import rto_mh\n",
    "import numpy as np\n",
    "import cuqi\n",
    "import time\n",
    "from scipy.special import gamma\n",
    "import arviz as az"
   ]
  },
  {
   "cell_type": "code",
   "execution_count": 2,
   "id": "9ba26919",
   "metadata": {},
   "outputs": [],
   "source": [
    "def Test_Signal(x):\n",
    "    Signal = np.zeros(len(x))\n",
    "    interval_1 = np.logical_and(0.1 <= x, x <= 0.35)\n",
    "    interval_2 = np.logical_and(0.35 < x, x <= 0.45)\n",
    "    interval_3 = np.logical_and(0.45 < x, x <= 0.60)\n",
    "    interval_4 = np.logical_and(0.60 < x, x < 0.90)\n",
    "    Signal[interval_1] = np.exp(-(x[interval_1]-0.35)**2*150)\n",
    "    Signal[interval_2] = 1.0\n",
    "    Signal[interval_3] = 0.8\n",
    "    Signal[interval_4] = 0.40\n",
    "    return Signal"
   ]
  },
  {
   "cell_type": "code",
   "execution_count": 3,
   "id": "3db48b8f",
   "metadata": {},
   "outputs": [],
   "source": [
    "np.random.seed(5)\n",
    "N = 4096\n",
    "x = np.linspace(0, 1, N, endpoint=False)\n",
    "signal = Test_Signal(x)\n",
    "likelihood = blurring(x,sigma_kernel=0.02)\n",
    "likelihood.set_data(signal,noise_level=2.0)\n",
    "lam = likelihood.lam\n",
    "Data = likelihood.data[0::128]\n",
    "m = 32"
   ]
  },
  {
   "cell_type": "code",
   "execution_count": null,
   "id": "65f0b9e1",
   "metadata": {},
   "outputs": [
    {
     "name": "stdout",
     "output_type": "stream",
     "text": [
      "`ftol` termination condition is satisfied.\n",
      "Function evaluations 6, initial cost 3.5286e+04, final cost 5.5639e+01, first-order optimality 1.01e-05.\n",
      "1.4723540938156667e-05\n",
      "1.0\n",
      "`ftol` termination condition is satisfied.\n",
      "Function evaluations 7, initial cost 3.5898e+04, final cost 9.8962e+01, first-order optimality 5.87e-05.\n",
      "9.032807731016026e-05\n",
      "1.0\n",
      "`ftol` termination condition is satisfied.\n",
      "Function evaluations 8, initial cost 3.6873e+04, final cost 1.6796e+02, first-order optimality 9.30e-05.\n",
      "0.00015292166437982203\n",
      "1.0\n",
      "`ftol` termination condition is satisfied.\n",
      "Function evaluations 8, initial cost 3.7812e+04, final cost 2.7563e+02, first-order optimality 1.91e-04.\n",
      "0.0003200217782789977\n",
      "1.0\n",
      "`ftol` termination condition is satisfied.\n",
      "Function evaluations 8, initial cost 3.8649e+04, final cost 4.4113e+02, first-order optimality 2.54e-04.\n",
      "0.00041430824377798614\n",
      "1.0\n",
      "`ftol` termination condition is satisfied.\n",
      "Function evaluations 10, initial cost 3.9449e+04, final cost 6.9532e+02, first-order optimality 3.97e-04.\n",
      "0.0005127288618293171\n",
      "1.0\n",
      "`ftol` termination condition is satisfied.\n",
      "Function evaluations 10, initial cost 4.0366e+04, final cost 1.0829e+03, first-order optimality 3.92e-04.\n",
      "0.00043791203357651016\n",
      "1.0\n",
      "`ftol` termination condition is satisfied.\n",
      "Function evaluations 6, initial cost 3.5391e+04, final cost 3.9892e+01, first-order optimality 4.05e-06.\n",
      "8.480558167057433e-06\n",
      "1.0\n",
      "`ftol` termination condition is satisfied.\n",
      "Function evaluations 7, initial cost 3.8439e+04, final cost 6.5521e+01, first-order optimality 2.61e-05.\n",
      "4.2741164756887884e-05\n",
      "1.0\n",
      "`ftol` termination condition is satisfied.\n",
      "Function evaluations 7, initial cost 3.9285e+04, final cost 1.0585e+02, first-order optimality 1.09e-04.\n",
      "0.0001360599312988335\n",
      "1.0\n",
      "`ftol` termination condition is satisfied.\n",
      "Function evaluations 7, initial cost 3.9738e+04, final cost 2.2047e+02, first-order optimality 2.05e-04.\n",
      "0.00028603884229745337\n",
      "1.0\n",
      "`ftol` termination condition is satisfied.\n",
      "Function evaluations 8, initial cost 4.0074e+04, final cost 3.6371e+02, first-order optimality 1.81e-04.\n",
      "0.0002170446278723708\n",
      "1.0\n",
      "`ftol` termination condition is satisfied.\n",
      "Function evaluations 7, initial cost 4.0474e+04, final cost 5.7710e+02, first-order optimality 2.90e-04.\n",
      "0.0003777807154924456\n",
      "1.0\n",
      "`ftol` termination condition is satisfied.\n",
      "Function evaluations 9, initial cost 4.1096e+04, final cost 9.1523e+02, first-order optimality 7.48e-05.\n",
      "0.00016376132291029101\n",
      "1.0\n"
     ]
    }
   ],
   "source": [
    "np.random.seed(5)\n",
    "n_range = [32, 64, 128, 256, 512, 1024, 2048]\n",
    "delt = 1\n",
    "wavelets = ['db1','db8']\n",
    "level = 0 \n",
    "nsamp = 10000\n",
    "for wavelet in wavelets:\n",
    "    J = 5\n",
    "    for n in n_range:\n",
    "            x_n = np.linspace(0, 1, n, endpoint=False)\n",
    "            x0 = np.ones(len(x_n))\n",
    "            likelihood = blurring(x_n,sigma_kernel=0.02, Factor= int(n/m))\n",
    "            likelihood.data = Data\n",
    "            likelihood.lam = lam\n",
    "            prior = besov_prior(J=J, delt=delt, level=level,s=1.0,p=1.5,wavelet=wavelet)\n",
    "            jac_const = likelihood.jac_const(n) @ prior.jac_const(n)\n",
    "            problem = inverse_problem(likelihood,prior,jac_const)\n",
    "            Nrand = m+n\n",
    "            rto_sampler=rto_mh(x0,Nrand,samp=nsamp)\n",
    "            z_Map=rto_sampler.initialize_Q(problem)\n",
    "            rto_sampler.x0 = z_Map\n",
    "            xchain, acc_rate, index_accept, log_c_chain = rto_sampler.sample(problem)\n",
    "            np.save(\"Discrete_Invariant_Samples_\"+wavelet + \"_n=\" + str(n) + \"_s=1.0_p=1.5\" + \".npz\",xchain)\n",
    "            np.save(\"Discrete_Invariant_index_accept_\"+wavelet+\"_n=\" + str(n)+ \"_s=1.0_p=1.5\" +  \".npz\",index_accept)\n",
    "            print(acc_rate)\n",
    "            J += 1"
   ]
  },
  {
   "cell_type": "code",
   "execution_count": 16,
   "id": "2a6841f2",
   "metadata": {},
   "outputs": [],
   "source": [
    "np.random.seed(5)\n",
    "J = 9\n",
    "x=np.linspace(0, 1, 2**J, endpoint=False)\n",
    "signal = Test_Signal(x)\n",
    "likelihood = blurring(x,sigma_kernel=0.02)\n",
    "likelihood.set_data(signal,noise_level=2.0)\n",
    "n = len(x)\n",
    "m = len(likelihood.data)"
   ]
  },
  {
   "cell_type": "code",
   "execution_count": 17,
   "id": "7a536397",
   "metadata": {},
   "outputs": [
    {
     "name": "stdout",
     "output_type": "stream",
     "text": [
      "`ftol` termination condition is satisfied.\n",
      "Function evaluations 7, initial cost 6.0895e+05, final cost 7.7611e+02, first-order optimality 3.28e-04.\n",
      "0.0006521909648807057\n"
     ]
    }
   ],
   "source": [
    "p = 1.5\n",
    "s = 1.0\n",
    "wavelet = 'db1'\n",
    "level = 0\n",
    "delt = 1.0\n",
    "prior = besov_prior(J = J,delt=delt, level=level,s=s,p=p,wavelet=wavelet)\n",
    "jac_const = likelihood.jac_const(n) @ prior.jac_const(n)\n",
    "problem = inverse_problem(likelihood,prior,jac_const)\n",
    "Nrand = n+m\n",
    "x0 = np.ones(n)\n",
    "nsamp = 1400\n",
    "rto_sampler=rto_mh(x0,Nrand,samp=nsamp)\n",
    "zMap=rto_sampler.initialize_Q(problem)\n",
    "MAP = prior.transform(zMap)"
   ]
  },
  {
   "cell_type": "code",
   "execution_count": 18,
   "id": "e105997a",
   "metadata": {},
   "outputs": [
    {
     "name": "stdout",
     "output_type": "stream",
     "text": [
      "Sample 1400 / 1400\n",
      "634.859375\n"
     ]
    }
   ],
   "source": [
    "np.random.seed(5)\n",
    "logpdf = lambda x:-delt/((np.sqrt(gamma(1/p)/gamma(3/p)))**p)*np.linalg.norm(prior.wavelet_weigth(x),ord=p)**p\n",
    "gradient = lambda x:-p*delt/((np.sqrt(gamma(1/p)/gamma(3/p)))**p)*prior.wavelet_weight_adjoint(np.sign(prior.wavelet_weigth(x))*np.abs(prior.wavelet_weigth(x))**(p-1))\n",
    "xx = cuqi.distribution.UserDefinedDistribution(dim=n,logpdf_func=logpdf,gradient_func=gradient)\n",
    "model = cuqi.model.LinearModel(likelihood.jac_const(n))\n",
    "y = cuqi.distribution.Gaussian(model(xx),likelihood.lam**2)\n",
    "joint = cuqi.distribution.JointDistribution(y,xx)\n",
    "posterior = joint(y=likelihood.data)\n",
    "sampler = cuqi.sampler.NUTS(posterior,MAP,adapt_step_size=True,opt_acc_rate=0.8)\n",
    "t0 = time.process_time()\n",
    "chain_NUTS = sampler.sample(1000,400)\n",
    "t1 = time.process_time()\n",
    "total_time_NUTS = t1-t0\n",
    "print(total_time_NUTS)\n",
    "np.save(\"Comparison_samples_deconvolution_NUTS.npy\",chain_NUTS.samples)\n",
    "np.save(\"Time_NUTS.npy\",total_time_NUTS)\n"
   ]
  },
  {
   "cell_type": "code",
   "execution_count": 19,
   "id": "0bbabddf",
   "metadata": {},
   "outputs": [
    {
     "name": "stdout",
     "output_type": "stream",
     "text": [
      "0.7057142857142857\n",
      "757.59375\n"
     ]
    }
   ],
   "source": [
    "np.random.seed(5)\n",
    "rto_sampler.x0=zMap\n",
    "t0 = time.process_time()\n",
    "chain_RTO, acc_rate, index_accept ,log_c_chain  = rto_sampler.sample(problem)\n",
    "t1 = time.process_time()\n",
    "total_time_RTO = t1-t0\n",
    "print(acc_rate)\n",
    "print(total_time_RTO)\n",
    "chain_RTO_accept = chain_RTO[:,index_accept]\n",
    "np.save(\"Comparison_samples_deconvolution_RTO.npy\",chain_RTO_accept[:,0:1000])\n",
    "np.save(\"Time_RTO.npy\",total_time_RTO)"
   ]
  },
  {
   "cell_type": "code",
   "execution_count": 20,
   "id": "caee12b2",
   "metadata": {},
   "outputs": [
    {
     "name": "stdout",
     "output_type": "stream",
     "text": [
      "580.653631570516 954.1456042915211 1178.2184998559271\n",
      "0.7664445906140541 1.2594422859105174 1.5552114835370898\n",
      "240.20501208935383 677.5247660702041 1064.8625096460817\n",
      "0.3783593998109484 1.0672044751173504 1.6773202878922306\n"
     ]
    }
   ],
   "source": [
    "chain_RTO = np.load(\"Comparison_samples_deconvolution_RTO.npy\")\n",
    "time_RTO = np.load(\"Time_RTO.npy\")\n",
    "RTO_samples = chain_RTO\n",
    "ESS_RTO = np.zeros(n)\n",
    "for i in range(n):\n",
    "    ESS_RTO[i]=az.ess(RTO_samples[i,:])\n",
    "print(ESS_RTO.min(),np.median(ESS_RTO),ESS_RTO.max())\n",
    "print(ESS_RTO.min()/time_RTO,np.median(ESS_RTO)/time_RTO,ESS_RTO.max()/time_RTO)\n",
    "chain_NUTS=np.load(\"Comparison_samples_deconvolution_NUTS.npy\")\n",
    "time_NUTS = np.load(\"Time_NUTS.npy\")\n",
    "ESS_NUTS = np.zeros(n)\n",
    "for i in range(n):\n",
    "    ESS_NUTS[i]=az.ess(chain_NUTS[i,:])\n",
    "print(ESS_NUTS.min(),np.median(ESS_NUTS),ESS_NUTS.max())\n",
    "print(ESS_NUTS.min()/time_NUTS,np.median(ESS_NUTS)/time_NUTS,ESS_NUTS.max()/time_NUTS)"
   ]
  }
 ],
 "metadata": {
  "kernelspec": {
   "display_name": "Python 3",
   "language": "python",
   "name": "python3"
  },
  "language_info": {
   "codemirror_mode": {
    "name": "ipython",
    "version": 3
   },
   "file_extension": ".py",
   "mimetype": "text/x-python",
   "name": "python",
   "nbconvert_exporter": "python",
   "pygments_lexer": "ipython3",
   "version": "3.10.8"
  }
 },
 "nbformat": 4,
 "nbformat_minor": 5
}
